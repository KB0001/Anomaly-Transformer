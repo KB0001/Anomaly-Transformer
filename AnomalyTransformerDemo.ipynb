{
  "cells": [
    {
      "cell_type": "code",
      "execution_count": 1,
      "metadata": {
        "colab": {
          "base_uri": "https://localhost:8080/"
        },
        "id": "5c7hyTr_jV9B",
        "outputId": "22e3124a-dfd0-4284-f1ec-d58a3e932018"
      },
      "outputs": [
        {
          "output_type": "stream",
          "name": "stdout",
          "text": [
            "Mounted at /content/drive\n"
          ]
        }
      ],
      "source": [
        "from google.colab import drive\n",
        "drive.mount('/content/drive')"
      ]
    },
    {
      "cell_type": "code",
      "execution_count": 2,
      "metadata": {
        "colab": {
          "base_uri": "https://localhost:8080/"
        },
        "id": "hH-cOtsIHyPx",
        "outputId": "f12a17d0-5e92-4ad5-d3f6-5ee3975faafc"
      },
      "outputs": [
        {
          "output_type": "stream",
          "name": "stdout",
          "text": [
            "/content/drive/MyDrive/Anomaly-Transformer-main\n"
          ]
        }
      ],
      "source": [
        "cd /content/drive/MyDrive/Anomaly-Transformer-main/"
      ]
    },
    {
      "cell_type": "code",
      "execution_count": 6,
      "metadata": {
        "colab": {
          "base_uri": "https://localhost:8080/"
        },
        "id": "LjdECA6NJQ7J",
        "outputId": "3c5d0be4-5e55-4e12-db16-6da91e6cced5"
      },
      "outputs": [
        {
          "output_type": "stream",
          "name": "stdout",
          "text": [
            "------------ Options -------------\n",
            "anormly_ratio: 0.5\n",
            "batch_size: 256\n",
            "data_path: dataset/SMD\n",
            "dataset: SMD\n",
            "input_c: 38\n",
            "k: 3\n",
            "lr: 0.0001\n",
            "mode: train\n",
            "model_save_path: checkpoints\n",
            "num_epochs: 10\n",
            "output_c: 38\n",
            "pretrained_model: None\n",
            "win_size: 100\n",
            "-------------- End ----------------\n",
            "======================TRAIN MODE======================\n",
            "Epoch: 1 cost time: 6.256774425506592\n",
            "Epoch: 1, Steps: 28 | Train Loss: -21.7237056 Vali Loss: -22.9541716 \n",
            "Validation loss decreased (inf --> -22.954172).  Saving model ...\n",
            "Updating learning rate to 0.0001\n",
            "Epoch: 2 cost time: 3.6993517875671387\n",
            "Epoch: 2, Steps: 28 | Train Loss: -32.2432836 Vali Loss: -39.9121132 \n",
            "EarlyStopping counter: 1 out of 3\n",
            "Updating learning rate to 5e-05\n",
            "Epoch: 3 cost time: 3.6853067874908447\n",
            "Epoch: 3, Steps: 28 | Train Loss: -42.5002593 Vali Loss: -42.6333457 \n",
            "EarlyStopping counter: 2 out of 3\n",
            "Updating learning rate to 2.5e-05\n",
            "Epoch: 4 cost time: 3.6860318183898926\n",
            "Epoch: 4, Steps: 28 | Train Loss: -44.0058124 Vali Loss: -43.3259790 \n",
            "EarlyStopping counter: 3 out of 3\n",
            "Early stopping\n",
            "------------ Options -------------\n",
            "anormly_ratio: 0.5\n",
            "batch_size: 256\n",
            "data_path: dataset/SMD\n",
            "dataset: SMD\n",
            "input_c: 38\n",
            "k: 3\n",
            "lr: 0.0001\n",
            "mode: test\n",
            "model_save_path: checkpoints\n",
            "num_epochs: 10\n",
            "output_c: 38\n",
            "pretrained_model: 20\n",
            "win_size: 100\n",
            "-------------- End ----------------\n",
            "======================TEST MODE======================\n",
            "Threshold : 0.12511584281921184\n",
            "pred:    (708400,)\n",
            "gt:      (708400,)\n",
            "pred:  (708400,)\n",
            "gt:    (708400,)\n",
            "Testing time in seconds: 4.3579s\n",
            "Accuracy : 0.9923, Precision : 0.8907, Recall : 0.9297, F-score : 0.9098 \n",
            "CPU times: user 203 ms, sys: 50.9 ms, total: 254 ms\n",
            "Wall time: 43.5 s\n"
          ]
        }
      ],
      "source": [
        "%%time\n",
        "!bash ./scripts/SMD.sh"
      ]
    },
    {
      "cell_type": "code",
      "execution_count": 4,
      "metadata": {
        "id": "QSFF_zfUJTIl",
        "colab": {
          "base_uri": "https://localhost:8080/"
        },
        "outputId": "28c59d74-c56b-400f-8cad-8c36c3378053"
      },
      "outputs": [
        {
          "output_type": "stream",
          "name": "stdout",
          "text": [
            "------------ Options -------------\n",
            "anormly_ratio: 1.0\n",
            "batch_size: 256\n",
            "data_path: dataset/MSL\n",
            "dataset: MSL\n",
            "input_c: 55\n",
            "k: 3\n",
            "lr: 0.0001\n",
            "mode: train\n",
            "model_save_path: checkpoints\n",
            "num_epochs: 3\n",
            "output_c: 55\n",
            "pretrained_model: None\n",
            "win_size: 100\n",
            "-------------- End ----------------\n",
            "test: (73729, 55)\n",
            "train: (58317, 55)\n",
            "test: (73729, 55)\n",
            "train: (58317, 55)\n",
            "test: (73729, 55)\n",
            "train: (58317, 55)\n",
            "test: (73729, 55)\n",
            "train: (58317, 55)\n",
            "======================TRAIN MODE======================\n",
            "\tspeed: 0.1448s/iter; left time: 84.7337s\n",
            "\tspeed: 0.1352s/iter; left time: 65.5941s\n",
            "Epoch: 1 cost time: 32.99238157272339\n",
            "Epoch: 1, Steps: 228 | Train Loss: -42.1942565 Vali Loss: -45.4923602 \n",
            "Validation loss decreased (inf --> -45.492360).  Saving model ...\n",
            "Updating learning rate to 0.0001\n",
            "\tspeed: 0.3158s/iter; left time: 112.7288s\n",
            "\tspeed: 0.1356s/iter; left time: 34.8578s\n",
            "Epoch: 2 cost time: 30.818858861923218\n",
            "Epoch: 2, Steps: 228 | Train Loss: -47.5563503 Vali Loss: -46.1062125 \n",
            "EarlyStopping counter: 1 out of 3\n",
            "Updating learning rate to 5e-05\n",
            "\tspeed: 0.3036s/iter; left time: 39.1626s\n",
            "\tspeed: 0.1355s/iter; left time: 3.9292s\n",
            "Epoch: 3 cost time: 30.79405975341797\n",
            "Epoch: 3, Steps: 228 | Train Loss: -47.8486724 Vali Loss: -46.2732346 \n",
            "EarlyStopping counter: 2 out of 3\n",
            "Updating learning rate to 2.5e-05\n",
            "------------ Options -------------\n",
            "anormly_ratio: 1.0\n",
            "batch_size: 256\n",
            "data_path: dataset/MSL\n",
            "dataset: MSL\n",
            "input_c: 55\n",
            "k: 3\n",
            "lr: 0.0001\n",
            "mode: test\n",
            "model_save_path: checkpoints\n",
            "num_epochs: 10\n",
            "output_c: 55\n",
            "pretrained_model: 20\n",
            "win_size: 100\n",
            "-------------- End ----------------\n",
            "test: (73729, 55)\n",
            "train: (58317, 55)\n",
            "test: (73729, 55)\n",
            "train: (58317, 55)\n",
            "test: (73729, 55)\n",
            "train: (58317, 55)\n",
            "test: (73729, 55)\n",
            "train: (58317, 55)\n",
            "======================TEST MODE======================\n",
            "Threshold : 0.008305568173527532\n",
            "pred:    (73700,)\n",
            "gt:      (73700,)\n",
            "pred:  (73700,)\n",
            "gt:    (73700,)\n",
            "Testing time in seconds: 10.0801s\n",
            "Accuracy : 0.9891, Precision : 0.9220, Recall : 0.9793, F-score : 0.9498 \n",
            "CPU times: user 674 ms, sys: 115 ms, total: 789 ms\n",
            "Wall time: 2min 38s\n"
          ]
        }
      ],
      "source": [
        "%%time\n",
        "!bash ./scripts/MSL.sh"
      ]
    },
    {
      "cell_type": "code",
      "execution_count": 5,
      "metadata": {
        "colab": {
          "base_uri": "https://localhost:8080/"
        },
        "id": "4gmrH3qEkOfc",
        "outputId": "59b37d18-be8f-46bd-b5cc-643af33948d3"
      },
      "outputs": [
        {
          "output_type": "stream",
          "name": "stdout",
          "text": [
            "------------ Options -------------\n",
            "anormly_ratio: 1.0\n",
            "batch_size: 256\n",
            "data_path: dataset/SMAP\n",
            "dataset: SMAP\n",
            "input_c: 25\n",
            "k: 3\n",
            "lr: 0.0001\n",
            "mode: train\n",
            "model_save_path: checkpoints\n",
            "num_epochs: 3\n",
            "output_c: 25\n",
            "pretrained_model: None\n",
            "win_size: 100\n",
            "-------------- End ----------------\n",
            "test: (427617, 25)\n",
            "train: (135183, 25)\n",
            "test: (427617, 25)\n",
            "train: (135183, 25)\n",
            "test: (427617, 25)\n",
            "train: (135183, 25)\n",
            "test: (427617, 25)\n",
            "train: (135183, 25)\n",
            "======================TRAIN MODE======================\n",
            "\tspeed: 0.1439s/iter; left time: 213.7280s\n",
            "\tspeed: 0.1343s/iter; left time: 185.9960s\n",
            "\tspeed: 0.1342s/iter; left time: 172.5025s\n",
            "\tspeed: 0.1345s/iter; left time: 159.3803s\n",
            "\tspeed: 0.1345s/iter; left time: 145.9573s\n",
            "Epoch: 1 cost time: 73.46668457984924\n",
            "Epoch: 1, Steps: 528 | Train Loss: -44.8371102 Vali Loss: -47.3907051 \n",
            "Validation loss decreased (inf --> -47.390705).  Saving model ...\n",
            "Updating learning rate to 0.0001\n",
            "\tspeed: 0.9452s/iter; left time: 904.6015s\n",
            "\tspeed: 0.1345s/iter; left time: 115.2440s\n",
            "\tspeed: 0.1346s/iter; left time: 101.8611s\n",
            "\tspeed: 0.1346s/iter; left time: 88.4618s\n",
            "\tspeed: 0.1347s/iter; left time: 75.0315s\n",
            "Epoch: 2 cost time: 71.04733967781067\n",
            "Epoch: 2, Steps: 528 | Train Loss: -47.9439034 Vali Loss: -47.8420904 \n",
            "EarlyStopping counter: 1 out of 3\n",
            "Updating learning rate to 5e-05\n",
            "\tspeed: 0.8999s/iter; left time: 386.0497s\n",
            "\tspeed: 0.1345s/iter; left time: 44.2571s\n",
            "\tspeed: 0.1345s/iter; left time: 30.7959s\n",
            "\tspeed: 0.1346s/iter; left time: 17.3629s\n",
            "\tspeed: 0.1346s/iter; left time: 3.9040s\n",
            "Epoch: 3 cost time: 70.95830368995667\n",
            "Epoch: 3, Steps: 528 | Train Loss: -48.1579214 Vali Loss: -47.9522333 \n",
            "EarlyStopping counter: 2 out of 3\n",
            "Updating learning rate to 2.5e-05\n",
            "------------ Options -------------\n",
            "anormly_ratio: 1.0\n",
            "batch_size: 256\n",
            "data_path: dataset/SMAP\n",
            "dataset: SMAP\n",
            "input_c: 25\n",
            "k: 3\n",
            "lr: 0.0001\n",
            "mode: test\n",
            "model_save_path: checkpoints\n",
            "num_epochs: 10\n",
            "output_c: 25\n",
            "pretrained_model: 20\n",
            "win_size: 100\n",
            "-------------- End ----------------\n",
            "test: (427617, 25)\n",
            "train: (135183, 25)\n",
            "test: (427617, 25)\n",
            "train: (135183, 25)\n",
            "test: (427617, 25)\n",
            "train: (135183, 25)\n",
            "test: (427617, 25)\n",
            "train: (135183, 25)\n",
            "======================TEST MODE======================\n",
            "Threshold : 0.002332464596256613\n",
            "pred:    (427600,)\n",
            "gt:      (427600,)\n",
            "pred:  (427600,)\n",
            "gt:    (427600,)\n",
            "Testing time in seconds: 21.3132s\n",
            "Accuracy : 0.9906, Precision : 0.9371, Recall : 0.9935, F-score : 0.9645 \n",
            "CPU times: user 1.87 s, sys: 396 ms, total: 2.26 s\n",
            "Wall time: 7min 54s\n"
          ]
        }
      ],
      "source": [
        "%%time\n",
        "!bash ./scripts/SMAP.sh"
      ]
    },
    {
      "cell_type": "code",
      "execution_count": null,
      "metadata": {
        "id": "MvSGp_CdIDIq"
      },
      "outputs": [],
      "source": []
    }
  ],
  "metadata": {
    "accelerator": "GPU",
    "colab": {
      "gpuType": "A100",
      "machine_shape": "hm",
      "provenance": []
    },
    "kernelspec": {
      "display_name": "Python 3",
      "name": "python3"
    },
    "language_info": {
      "name": "python"
    }
  },
  "nbformat": 4,
  "nbformat_minor": 0
}