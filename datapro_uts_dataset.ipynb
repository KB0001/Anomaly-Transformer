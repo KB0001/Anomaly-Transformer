{
 "cells": [
  {
   "cell_type": "code",
   "execution_count": 3,
   "id": "6edd9844-a22a-44f8-b165-fb112969c51b",
   "metadata": {},
   "outputs": [
    {
     "name": "stdout",
     "output_type": "stream",
     "text": [
      "0.21264342982034867\n"
     ]
    }
   ],
   "source": [
    "a = 0.234269\n",
    "b = 0.194673\n",
    "print(2*a*b/(a+b))"
   ]
  },
  {
   "cell_type": "code",
   "execution_count": 10,
   "id": "8330f057-250f-4ec9-a66e-b4e1f129fb16",
   "metadata": {},
   "outputs": [],
   "source": [
    "import numpy as np\n",
    "import pandas as pd\n",
    "import os\n",
    "import random"
   ]
  },
  {
   "cell_type": "code",
   "execution_count": 7,
   "id": "64dbc357-27c9-49c8-abc3-929426081821",
   "metadata": {},
   "outputs": [],
   "source": [
    "data_dir = '/hpc2hdd/home/kwang425/FCVAE/data/'\n",
    "file_list = os.listdir(data_dir)"
   ]
  },
  {
   "cell_type": "code",
   "execution_count": 15,
   "id": "bb1b213c-873f-40ef-9786-e8bece65dc79",
   "metadata": {},
   "outputs": [],
   "source": [
    "file_count_all = []\n",
    "folder_path = []\n",
    "for file in file_list:\n",
    "    folder_path.append(data_dir + file)\n",
    "for file in folder_path:\n",
    "    all_items = os.listdir(file)\n",
    "    file_count = sum(1 for item in all_items if os.path.isfile(os.path.join(file, item)))\n",
    "    file_count_all.append(file_count)"
   ]
  },
  {
   "cell_type": "code",
   "execution_count": 26,
   "id": "74c35903-1009-4934-bc80-56a27e8bb29f",
   "metadata": {},
   "outputs": [
    {
     "data": {
      "text/plain": [
       "['/hpc2hdd/home/kwang425/FCVAE/data/WSD',\n",
       " '/hpc2hdd/home/kwang425/FCVAE/data/NAB',\n",
       " '/hpc2hdd/home/kwang425/FCVAE/data/Yahoo',\n",
       " '/hpc2hdd/home/kwang425/FCVAE/data/AIOPS']"
      ]
     },
     "execution_count": 26,
     "metadata": {},
     "output_type": "execute_result"
    }
   ],
   "source": [
    "folder_path"
   ]
  },
  {
   "cell_type": "code",
   "execution_count": 16,
   "id": "a126f5f4-572b-4160-ad2d-4ec69ef3de49",
   "metadata": {},
   "outputs": [
    {
     "data": {
      "text/plain": [
       "[210, 10, 367, 58]"
      ]
     },
     "execution_count": 16,
     "metadata": {},
     "output_type": "execute_result"
    }
   ],
   "source": [
    "file_count_all"
   ]
  },
  {
   "cell_type": "code",
   "execution_count": 21,
   "id": "29e9f5b0-ec41-477b-a673-91fb11ac0902",
   "metadata": {},
   "outputs": [],
   "source": [
    "# random_seed = 520\n",
    "# random.seed(random_seed)\n",
    "train_set = []\n",
    "test_set = []\n",
    "for folder in folder_path:\n",
    "    files = [f for f in os.listdir(folder) if os.path.isfile(os.path.join(folder, f))]\n",
    "    random.shuffle(files)\n",
    "    train_size = int(len(files) * 0.5)\n",
    "    train_files = files[:train_size]\n",
    "    train_set.append(train_files)\n",
    "    test_files = files[train_size:]\n",
    "    test_set.append(test_files)"
   ]
  },
  {
   "cell_type": "code",
   "execution_count": 60,
   "id": "4c65bb4c-57c0-4a36-a1e1-851f516a4702",
   "metadata": {},
   "outputs": [
    {
     "data": {
      "text/plain": [
       "['t431a8542-c468-3988-a508-3afd06a218da.csv',\n",
       " 't4d2af31a-9916-3d9f-8a8e-8a268a48c095.csv',\n",
       " 'tf0932edd-6400-3e63-9559-0a9860a1baa9.csv',\n",
       " 'test55f8b8b8-b659-38df-b3df-e4a5a8a54bc9.csv',\n",
       " 't1c6d7a26-1f1a-3321-bb4d-7a9d969ec8f0.csv',\n",
       " 't7103fa0f-cac4-314f-addc-866190247439.csv',\n",
       " 'test8723f0fb-eaef-32e6-b372-6034c9c04b80.csv',\n",
       " 'testa07ac296-de40-3a7c-8df3-91f642cc14d0.csv',\n",
       " 't0efb375b-b902-3661-ab23-9a0bb799f4e3.csv',\n",
       " 'tadb2fde9-8589-3f5b-a410-5fe14386c7af.csv',\n",
       " 'tda10a69f-d836-3baa-ad40-3e548ecf1fbd.csv',\n",
       " 't54350a12-7a9d-3ca8-b81f-f886b9d156fd.csv',\n",
       " 't6d1114ae-be04-3c46-b5aa-be1a003a57cd.csv',\n",
       " 'testf0932edd-6400-3e63-9559-0a9860a1baa9.csv',\n",
       " 'test7103fa0f-cac4-314f-addc-866190247439.csv',\n",
       " 'test6a757df4-95e5-3357-8406-165e2bd49360.csv',\n",
       " 'tba5f3328-9f3f-3ff5-a683-84437d16d554.csv',\n",
       " 'test57051487-3a40-3828-9084-a12f7f23ee38.csv',\n",
       " 'test6d1114ae-be04-3c46-b5aa-be1a003a57cd.csv',\n",
       " 'testda10a69f-d836-3baa-ad40-3e548ecf1fbd.csv',\n",
       " 't301c70d8-1630-35ac-8f96-bc1b6f4359ea.csv',\n",
       " 'tffb82d38-5f00-37db-abc0-5d2e4e4cb6aa.csv',\n",
       " 'test301c70d8-1630-35ac-8f96-bc1b6f4359ea.csv',\n",
       " 'test54350a12-7a9d-3ca8-b81f-f886b9d156fd.csv',\n",
       " 't847e8ecc-f8d2-3a93-9107-f367a0aab37d.csv',\n",
       " 'test4d2af31a-9916-3d9f-8a8e-8a268a48c095.csv',\n",
       " 'tc02607e8-7399-3dde-9d28-8a8da5e5d251.csv',\n",
       " 'testa8c06b47-cc41-3738-9110-12df0ee4c721.csv',\n",
       " 'testc02607e8-7399-3dde-9d28-8a8da5e5d251.csv']"
      ]
     },
     "execution_count": 60,
     "metadata": {},
     "output_type": "execute_result"
    }
   ],
   "source": [
    "train_set[3]"
   ]
  },
  {
   "cell_type": "code",
   "execution_count": 48,
   "id": "6e9769e8-07c4-46ee-8450-5a3bf43337ab",
   "metadata": {},
   "outputs": [
    {
     "name": "stdout",
     "output_type": "stream",
     "text": [
      "3796912\n",
      "3795993\n"
     ]
    }
   ],
   "source": [
    "# WSD\n",
    "pd_WSD_train = pd.DataFrame()\n",
    "pd_WSD_test = pd.DataFrame()\n",
    "f_path = folder_path[0]\n",
    "\n",
    "for file in os.listdir(f_path):\n",
    "    if file in train_set[0]:\n",
    "        tt = os.path.join(f_path, file)\n",
    "        df = pd.read_csv(tt)\n",
    "        pd_WSD_train = pd.concat([pd_WSD_train, df], ignore_index=True)\n",
    "    if file in test_set[0]:\n",
    "        tt = os.path.join(f_path, file)\n",
    "        df = pd.read_csv(tt)\n",
    "        pd_WSD_test = pd.concat([pd_WSD_test, df], ignore_index=True)\n",
    "print(len(pd_WSD_train))\n",
    "print(len(pd_WSD_test))"
   ]
  },
  {
   "cell_type": "code",
   "execution_count": 49,
   "id": "e117ed6c-2630-4c10-b475-8bbcbf7c2606",
   "metadata": {},
   "outputs": [
    {
     "name": "stdout",
     "output_type": "stream",
     "text": [
      "2\n",
      "2\n",
      "2\n"
     ]
    }
   ],
   "source": [
    "pd_WSD_train = pd_WSD_train.rename(columns={'value': 'feature_0'\n",
    "                                            , 'timestamp': 'timestamp_(min)'})\n",
    "pd_WSD_test = pd_WSD_test.rename(columns={'value': 'feature_0'\n",
    "                                          , 'timestamp': 'timestamp_(min)'})\n",
    "pd_WSD_test_label = pd_WSD_test[['timestamp_(min)', 'label']]\n",
    "pd_WSD_train = pd_WSD_train.drop('label', axis=1)\n",
    "pd_WSD_test = pd_WSD_test.drop('label', axis=1)\n",
    "print(pd_WSD_test_label.shape[1])\n",
    "print(pd_WSD_train.shape[1])\n",
    "print(pd_WSD_test.shape[1])"
   ]
  },
  {
   "cell_type": "code",
   "execution_count": 50,
   "id": "7b878740-122c-4ca1-97a1-d76ba1f7aa47",
   "metadata": {},
   "outputs": [],
   "source": [
    "p = '/hpc2hdd/home/kwang425/dataset/processing_data/AT/WSD/'\n",
    "pd_WSD_test_label.to_csv(p+'test_label.csv', index=False)\n",
    "pd_WSD_train.to_csv(p+'train.csv', index=False)\n",
    "pd_WSD_test.to_csv(p+'test.csv', index=False)"
   ]
  },
  {
   "cell_type": "code",
   "execution_count": 54,
   "id": "864bf630-917c-4f49-a462-b75eeacabdda",
   "metadata": {},
   "outputs": [
    {
     "name": "stdout",
     "output_type": "stream",
     "text": [
      "79321\n",
      "79310\n"
     ]
    }
   ],
   "source": [
    "# NAB\n",
    "pd_train = pd.DataFrame()\n",
    "pd_test = pd.DataFrame()\n",
    "i = 1\n",
    "f_path = folder_path[i]\n",
    "\n",
    "for file in os.listdir(f_path):\n",
    "    if file in train_set[i]:\n",
    "        tt = os.path.join(f_path, file)\n",
    "        df = pd.read_csv(tt)\n",
    "        pd_train = pd.concat([pd_train, df], ignore_index=True)\n",
    "    if file in test_set[i]:\n",
    "        tt = os.path.join(f_path, file)\n",
    "        df = pd.read_csv(tt)\n",
    "        pd_test = pd.concat([pd_test, df], ignore_index=True)\n",
    "print(len(pd_train))\n",
    "print(len(pd_test))"
   ]
  },
  {
   "cell_type": "code",
   "execution_count": 55,
   "id": "b9ef9a99-cea1-4447-858b-5882d2583e08",
   "metadata": {},
   "outputs": [
    {
     "name": "stdout",
     "output_type": "stream",
     "text": [
      "2\n",
      "2\n",
      "2\n",
      "79310\n",
      "79321\n",
      "79310\n"
     ]
    }
   ],
   "source": [
    "pd_train = pd_train.rename(columns={'value': 'feature_0'\n",
    "                                            , 'timestamp': 'timestamp_(min)'})\n",
    "pd_test = pd_test.rename(columns={'value': 'feature_0'\n",
    "                                          , 'timestamp': 'timestamp_(min)'})\n",
    "pd_test_label = pd_test[['timestamp_(min)', 'label']]\n",
    "pd_train = pd_train.drop('label', axis=1)\n",
    "pd_test = pd_test.drop('label', axis=1)\n",
    "print(pd_test_label.shape[1])\n",
    "print(pd_train.shape[1])\n",
    "print(pd_test.shape[1])\n",
    "print(pd_test_label.shape[0])\n",
    "print(pd_train.shape[0])\n",
    "print(pd_test.shape[0])"
   ]
  },
  {
   "cell_type": "code",
   "execution_count": 57,
   "id": "68d3ba38-070c-4097-a96f-347a06c23d40",
   "metadata": {},
   "outputs": [],
   "source": [
    "p = '/hpc2hdd/home/kwang425/dataset/processing_data/AT/NAB/'\n",
    "pd_test_label.to_csv(p+'test_label.csv', index=False)\n",
    "pd_train.to_csv(p+'train.csv', index=False)\n",
    "pd_test.to_csv(p+'test.csv', index=False)"
   ]
  },
  {
   "cell_type": "code",
   "execution_count": 61,
   "id": "9b255ac3-e3fd-4036-98dc-393b450621d3",
   "metadata": {},
   "outputs": [
    {
     "name": "stdout",
     "output_type": "stream",
     "text": [
      "282259\n",
      "290707\n",
      "2\n",
      "2\n",
      "2\n",
      "290707\n",
      "282259\n",
      "290707\n"
     ]
    }
   ],
   "source": [
    "# Yahoo\n",
    "pd_train = pd.DataFrame()\n",
    "pd_test = pd.DataFrame()\n",
    "i = 2\n",
    "f_path = folder_path[i]\n",
    "\n",
    "for file in os.listdir(f_path):\n",
    "    if file in train_set[i]:\n",
    "        tt = os.path.join(f_path, file)\n",
    "        df = pd.read_csv(tt)\n",
    "        pd_train = pd.concat([pd_train, df], ignore_index=True)\n",
    "    if file in test_set[i]:\n",
    "        tt = os.path.join(f_path, file)\n",
    "        df = pd.read_csv(tt)\n",
    "        pd_test = pd.concat([pd_test, df], ignore_index=True)\n",
    "print(len(pd_train))\n",
    "print(len(pd_test))\n",
    "pd_train = pd_train.rename(columns={'value': 'feature_0'\n",
    "                                            , 'timestamp': 'timestamp_(min)'})\n",
    "pd_test = pd_test.rename(columns={'value': 'feature_0'\n",
    "                                          , 'timestamp': 'timestamp_(min)'})\n",
    "pd_test_label = pd_test[['timestamp_(min)', 'label']]\n",
    "pd_train = pd_train.drop('label', axis=1)\n",
    "pd_test = pd_test.drop('label', axis=1)\n",
    "print(pd_test_label.shape[1])\n",
    "print(pd_train.shape[1])\n",
    "print(pd_test.shape[1])\n",
    "print(pd_test_label.shape[0])\n",
    "print(pd_train.shape[0])\n",
    "print(pd_test.shape[0])"
   ]
  },
  {
   "cell_type": "code",
   "execution_count": 62,
   "id": "0d265e7c-ced8-48ca-8045-c42401e1b8c0",
   "metadata": {},
   "outputs": [],
   "source": [
    "p = '/hpc2hdd/home/kwang425/dataset/processing_data/AT/Yahoo/'\n",
    "pd_test_label.to_csv(p+'test_label.csv', index=False)\n",
    "pd_train.to_csv(p+'train.csv', index=False)\n",
    "pd_test.to_csv(p+'test.csv', index=False)"
   ]
  },
  {
   "cell_type": "code",
   "execution_count": 66,
   "id": "5f606ce3-6004-4b35-90b4-5346f8ccfd49",
   "metadata": {},
   "outputs": [
    {
     "name": "stdout",
     "output_type": "stream",
     "text": [
      "2771627\n",
      "3151286\n",
      "2\n",
      "3\n",
      "3\n",
      "3151286\n",
      "2771627\n",
      "3151286\n"
     ]
    }
   ],
   "source": [
    "# AIOPS\n",
    "pd_train = pd.DataFrame()\n",
    "pd_test = pd.DataFrame()\n",
    "i = 3\n",
    "f_path = folder_path[i]\n",
    "\n",
    "for file in os.listdir(f_path):\n",
    "    if file in train_set[i]:\n",
    "        tt = os.path.join(f_path, file)\n",
    "        df = pd.read_csv(tt)\n",
    "        pd_train = pd.concat([pd_train, df], ignore_index=True)\n",
    "    if file in test_set[i]:\n",
    "        tt = os.path.join(f_path, file)\n",
    "        df = pd.read_csv(tt)\n",
    "        pd_test = pd.concat([pd_test, df], ignore_index=True)\n",
    "print(len(pd_train))\n",
    "print(len(pd_test))\n",
    "pd_train = pd_train.rename(columns={'value': 'feature_0'\n",
    "                                    , 'timestamp': 'timestamp_(min)'\n",
    "                                   ,'KPI ID': 'feature_1'})\n",
    "pd_test = pd_test.rename(columns={'value': 'feature_0'\n",
    "                                    , 'timestamp': 'timestamp_(min)'\n",
    "                                  ,'KPI ID': 'feature_1'})\n",
    "pd_test_label = pd_test[['timestamp_(min)', 'label']]\n",
    "pd_train = pd_train.drop('label', axis=1)\n",
    "pd_test = pd_test.drop('label', axis=1)\n",
    "print(pd_test_label.shape[1])\n",
    "print(pd_train.shape[1])\n",
    "print(pd_test.shape[1])\n",
    "print(pd_test_label.shape[0])\n",
    "print(pd_train.shape[0])\n",
    "print(pd_test.shape[0])"
   ]
  },
  {
   "cell_type": "code",
   "execution_count": 68,
   "id": "339d2315-87fd-4cd9-8eb0-c1874b626810",
   "metadata": {},
   "outputs": [],
   "source": [
    "import uuid\n",
    "def uuid_to_hex(uuid_str):\n",
    "    uuid_obj = uuid.UUID(uuid_str)\n",
    "    return int(uuid_obj.hex, 16)\n",
    "\n",
    "pd_train['feature_1'] = pd_train['feature_1'].apply(uuid_to_hex)\n",
    "pd_test['feature_1'] = pd_test['feature_1'].apply(uuid_to_hex)"
   ]
  },
  {
   "cell_type": "code",
   "execution_count": 69,
   "id": "61d1a5c7-b0f1-4cba-ab72-8b582d4d657a",
   "metadata": {},
   "outputs": [
    {
     "data": {
      "text/html": [
       "<div>\n",
       "<style scoped>\n",
       "    .dataframe tbody tr th:only-of-type {\n",
       "        vertical-align: middle;\n",
       "    }\n",
       "\n",
       "    .dataframe tbody tr th {\n",
       "        vertical-align: top;\n",
       "    }\n",
       "\n",
       "    .dataframe thead th {\n",
       "        text-align: right;\n",
       "    }\n",
       "</style>\n",
       "<table border=\"1\" class=\"dataframe\">\n",
       "  <thead>\n",
       "    <tr style=\"text-align: right;\">\n",
       "      <th></th>\n",
       "      <th>timestamp_(min)</th>\n",
       "      <th>feature_0</th>\n",
       "      <th>feature_1</th>\n",
       "    </tr>\n",
       "  </thead>\n",
       "  <tbody>\n",
       "    <tr>\n",
       "      <th>0</th>\n",
       "      <td>1500012900</td>\n",
       "      <td>209.280000</td>\n",
       "      <td>179632397558294695233351429978994002816</td>\n",
       "    </tr>\n",
       "    <tr>\n",
       "      <th>1</th>\n",
       "      <td>1500012960</td>\n",
       "      <td>215.790000</td>\n",
       "      <td>179632397558294695233351429978994002816</td>\n",
       "    </tr>\n",
       "    <tr>\n",
       "      <th>2</th>\n",
       "      <td>1500013020</td>\n",
       "      <td>215.910000</td>\n",
       "      <td>179632397558294695233351429978994002816</td>\n",
       "    </tr>\n",
       "    <tr>\n",
       "      <th>3</th>\n",
       "      <td>1500013080</td>\n",
       "      <td>215.920000</td>\n",
       "      <td>179632397558294695233351429978994002816</td>\n",
       "    </tr>\n",
       "    <tr>\n",
       "      <th>4</th>\n",
       "      <td>1500013140</td>\n",
       "      <td>214.920000</td>\n",
       "      <td>179632397558294695233351429978994002816</td>\n",
       "    </tr>\n",
       "    <tr>\n",
       "      <th>...</th>\n",
       "      <td>...</td>\n",
       "      <td>...</td>\n",
       "      <td>...</td>\n",
       "    </tr>\n",
       "    <tr>\n",
       "      <th>2771622</th>\n",
       "      <td>1474558500</td>\n",
       "      <td>1.027689</td>\n",
       "      <td>111930547667585499967887393536854808317</td>\n",
       "    </tr>\n",
       "    <tr>\n",
       "      <th>2771623</th>\n",
       "      <td>1474558800</td>\n",
       "      <td>-0.070629</td>\n",
       "      <td>111930547667585499967887393536854808317</td>\n",
       "    </tr>\n",
       "    <tr>\n",
       "      <th>2771624</th>\n",
       "      <td>1474559100</td>\n",
       "      <td>-0.521740</td>\n",
       "      <td>111930547667585499967887393536854808317</td>\n",
       "    </tr>\n",
       "    <tr>\n",
       "      <th>2771625</th>\n",
       "      <td>1474559400</td>\n",
       "      <td>0.583579</td>\n",
       "      <td>111930547667585499967887393536854808317</td>\n",
       "    </tr>\n",
       "    <tr>\n",
       "      <th>2771626</th>\n",
       "      <td>1474559700</td>\n",
       "      <td>-0.277611</td>\n",
       "      <td>111930547667585499967887393536854808317</td>\n",
       "    </tr>\n",
       "  </tbody>\n",
       "</table>\n",
       "<p>2771627 rows × 3 columns</p>\n",
       "</div>"
      ],
      "text/plain": [
       "         timestamp_(min)   feature_0                                feature_1\n",
       "0             1500012900  209.280000  179632397558294695233351429978994002816\n",
       "1             1500012960  215.790000  179632397558294695233351429978994002816\n",
       "2             1500013020  215.910000  179632397558294695233351429978994002816\n",
       "3             1500013080  215.920000  179632397558294695233351429978994002816\n",
       "4             1500013140  214.920000  179632397558294695233351429978994002816\n",
       "...                  ...         ...                                      ...\n",
       "2771622       1474558500    1.027689  111930547667585499967887393536854808317\n",
       "2771623       1474558800   -0.070629  111930547667585499967887393536854808317\n",
       "2771624       1474559100   -0.521740  111930547667585499967887393536854808317\n",
       "2771625       1474559400    0.583579  111930547667585499967887393536854808317\n",
       "2771626       1474559700   -0.277611  111930547667585499967887393536854808317\n",
       "\n",
       "[2771627 rows x 3 columns]"
      ]
     },
     "execution_count": 69,
     "metadata": {},
     "output_type": "execute_result"
    }
   ],
   "source": [
    "pd_train"
   ]
  },
  {
   "cell_type": "code",
   "execution_count": 70,
   "id": "ab508281-ac6e-4245-bb3b-75ab23a99199",
   "metadata": {},
   "outputs": [],
   "source": [
    "p = '/hpc2hdd/home/kwang425/dataset/processing_data/AT/AIOPS/'\n",
    "pd_test_label.to_csv(p+'test_label.csv', index=False)\n",
    "pd_train.to_csv(p+'train.csv', index=False)\n",
    "pd_test.to_csv(p+'test.csv', index=False)"
   ]
  },
  {
   "cell_type": "code",
   "execution_count": 2,
   "id": "b33dd42a-49fd-4bdb-8fc3-bc83801f6be4",
   "metadata": {},
   "outputs": [],
   "source": [
    "import numpy as np\n",
    "\n",
    "__all__ = [\"complete_timestamp\", \"standardize_kpi\"]\n",
    "\n",
    "\n",
    "def complete_timestamp(timestamp, arrays=None):\n",
    "    \"\"\"\n",
    "    Complete `timestamp` such that the time interval is homogeneous.\n",
    "    Zeros will be inserted into each array in `arrays`, at missing points.\n",
    "    Also, an indicator array will be returned to indicate whether each\n",
    "    point is missing or not.\n",
    "    Args:\n",
    "        timestamp (np.ndarray): 1-D int64 array, the timestamp values.\n",
    "            It can be unsorted.\n",
    "        arrays (Iterable[np.ndarray]): The 1-D arrays to be filled with zeros\n",
    "            according to `timestamp`.\n",
    "    Returns:\n",
    "        np.ndarray: A 1-D int64 array, the completed timestamp.\n",
    "        np.ndarray: A 1-D int32 array, indicating whether each point is missing.\n",
    "        list[np.ndarray]: The arrays, missing points filled with zeros.\n",
    "            (optional, return only if `arrays` is specified)\n",
    "    \"\"\"\n",
    "    timestamp = np.asarray(timestamp, np.int64)\n",
    "    if len(timestamp.shape) != 1:\n",
    "        raise ValueError(\"`timestamp` must be a 1-D array\")\n",
    "\n",
    "    has_arrays = arrays is not None\n",
    "    arrays = [np.asarray(array) for array in (arrays or ())]\n",
    "    for i, array in enumerate(arrays):\n",
    "        if array.shape != timestamp.shape:\n",
    "            raise ValueError(\n",
    "                \"The shape of ``arrays[{}]`` does not agree with \"\n",
    "                \"the shape of `timestamp` ({} vs {})\".format(\n",
    "                    i, array.shape, timestamp.shape\n",
    "                )\n",
    "            )\n",
    "    src_index = np.argsort(timestamp)\n",
    "    timestamp_sorted = timestamp[src_index]\n",
    "    intervals = np.unique(np.diff(timestamp_sorted))\n",
    "    interval = np.min(intervals)\n",
    "    if interval == 0:\n",
    "        raise ValueError(\"Duplicated values in `timestamp`\")\n",
    "    for itv in intervals:\n",
    "        if itv % interval != 0:\n",
    "            raise ValueError(\n",
    "                \"Not all intervals in `timestamp` are multiples \"\n",
    "                \"of the minimum interval\"\n",
    "            )\n",
    "\n",
    "    # prepare for the return arrays\n",
    "    length = (timestamp_sorted[-1] - timestamp_sorted[0]) // interval + 1\n",
    "    ret_timestamp = np.arange(\n",
    "        timestamp_sorted[0], timestamp_sorted[-1] + interval, interval, dtype=np.int64\n",
    "    )\n",
    "    ret_missing = np.ones([length], dtype=np.int32)\n",
    "    ret_arrays = [np.zeros([length], dtype=array.dtype) for array in arrays]\n",
    "\n",
    "    # copy values to the return arrays\n",
    "    dst_index = np.asarray(\n",
    "        (timestamp_sorted - timestamp_sorted[0]) // interval, dtype=np.int32\n",
    "    )\n",
    "    ret_missing[dst_index] = 0\n",
    "    for ret_array, array in zip(ret_arrays, arrays):\n",
    "        ret_array[dst_index] = array[src_index]\n",
    "\n",
    "    if has_arrays:\n",
    "        return ret_timestamp, ret_missing, ret_arrays\n",
    "    else:\n",
    "        return ret_timestamp, ret_missing\n",
    "\n",
    "\n",
    "def standardize_kpi(values, mean=None, std=None, excludes=None):\n",
    "    \"\"\"\n",
    "    Standardize a\n",
    "    Args:\n",
    "        values (np.ndarray): 1-D `float32` array, the KPI observations.\n",
    "        mean (float): If not :obj:`None`, will use this `mean` to standardize\n",
    "            `values`. If :obj:`None`, `mean` will be computed from `values`.\n",
    "            Note `mean` and `std` must be both :obj:`None` or not :obj:`None`.\n",
    "            (default :obj:`None`)\n",
    "        std (float): If not :obj:`None`, will use this `std` to standardize\n",
    "            `values`. If :obj:`None`, `std` will be computed from `values`.\n",
    "            Note `mean` and `std` must be both :obj:`None` or not :obj:`None`.\n",
    "            (default :obj:`None`)\n",
    "        excludes (np.ndarray): Optional, 1-D `int32` or `bool` array, the\n",
    "            indicators of whether each point should be excluded for computing\n",
    "            `mean` and `std`. Ignored if `mean` and `std` are not :obj:`None`.\n",
    "            (default :obj:`None`)\n",
    "    Returns:\n",
    "        np.ndarray: The standardized `values`.\n",
    "        float: The computed `mean` or the given `mean`.\n",
    "        float: The computed `std` or the given `std`.\n",
    "    \"\"\"\n",
    "    values = np.asarray(values, dtype=np.float32)\n",
    "    if len(values.shape) != 1:\n",
    "        raise ValueError(\"`values` must be a 1-D array\")\n",
    "    if (mean is None) != (std is None):\n",
    "        raise ValueError(\"`mean` and `std` must be both None or not None\")\n",
    "    if excludes is not None:\n",
    "        excludes = np.asarray(excludes, dtype=np.bool)\n",
    "        if excludes.shape != values.shape:\n",
    "            raise ValueError(\n",
    "                \"The shape of `excludes` does not agree with \"\n",
    "                \"the shape of `values` ({} vs {})\".format(excludes.shape, values.shape)\n",
    "            )\n",
    "\n",
    "    if mean is None:\n",
    "        if excludes is not None:\n",
    "            val = values[np.logical_not(excludes)]\n",
    "        else:\n",
    "            val = values\n",
    "        mean = val.mean()\n",
    "        std = val.std()\n",
    "\n",
    "    return (values - mean) / std, mean, std"
   ]
  },
  {
   "cell_type": "code",
   "execution_count": null,
   "id": "2b6fc494-2fcb-4e80-87cc-1f150388a723",
   "metadata": {},
   "outputs": [],
   "source": []
  }
 ],
 "metadata": {
  "kernelspec": {
   "display_name": "Python 3 (ipykernel)",
   "language": "python",
   "name": "python3"
  },
  "language_info": {
   "codemirror_mode": {
    "name": "ipython",
    "version": 3
   },
   "file_extension": ".py",
   "mimetype": "text/x-python",
   "name": "python",
   "nbconvert_exporter": "python",
   "pygments_lexer": "ipython3",
   "version": "3.7.7"
  }
 },
 "nbformat": 4,
 "nbformat_minor": 5
}
